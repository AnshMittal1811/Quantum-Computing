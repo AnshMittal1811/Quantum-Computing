{
 "cells": [
  {
   "cell_type": "markdown",
   "metadata": {},
   "source": [
    "# Quantum Computing Lab #7"
   ]
  },
  {
   "cell_type": "code",
   "execution_count": 16,
   "metadata": {},
   "outputs": [],
   "source": [
    "def hair(name, haircolor):\n",
    "    print(name + \" has \" + haircolor + \" hair.\")"
   ]
  },
  {
   "cell_type": "code",
   "execution_count": 17,
   "metadata": {},
   "outputs": [
    {
     "name": "stdout",
     "output_type": "stream",
     "text": [
      "Zeus has dark brown hair.\n",
      "Ansh has black hair.\n"
     ]
    }
   ],
   "source": [
    "if __name__ == \"__main__\":    \n",
    "    hair('Zeus','dark brown')\n",
    "    hair('Ansh','black')"
   ]
  },
  {
   "cell_type": "code",
   "execution_count": 18,
   "metadata": {},
   "outputs": [],
   "source": [
    "def prod(x, y):\n",
    "    print(x, \"*\", y, \"=\", x*y)"
   ]
  },
  {
   "cell_type": "code",
   "execution_count": 19,
   "metadata": {},
   "outputs": [
    {
     "name": "stdout",
     "output_type": "stream",
     "text": [
      "4 * 5 = 20\n"
     ]
    }
   ],
   "source": [
    "if __name__ == \"__main__\":\n",
    "    prod(4,5)"
   ]
  },
  {
   "cell_type": "markdown",
   "metadata": {},
   "source": [
    "**Ques) Find the error in the aforementioned function**"
   ]
  },
  {
   "cell_type": "code",
   "execution_count": 20,
   "metadata": {},
   "outputs": [
    {
     "ename": "SyntaxError",
     "evalue": "invalid syntax (<ipython-input-20-0edd7a64e0b5>, line 1)",
     "output_type": "error",
     "traceback": [
      "\u001b[1;36m  File \u001b[1;32m\"<ipython-input-20-0edd7a64e0b5>\"\u001b[1;36m, line \u001b[1;32m1\u001b[0m\n\u001b[1;33m    def bye:\u001b[0m\n\u001b[1;37m           ^\u001b[0m\n\u001b[1;31mSyntaxError\u001b[0m\u001b[1;31m:\u001b[0m invalid syntax\n"
     ]
    }
   ],
   "source": [
    "def bye:\n",
    "    print(\"thank you for coming\")"
   ]
  },
  {
   "cell_type": "markdown",
   "metadata": {},
   "source": [
    "**Ques) Find the error in the aforementioned function**"
   ]
  },
  {
   "cell_type": "markdown",
   "metadata": {},
   "source": [
    "'''python\n",
    "ref difference(x,):\n",
    "    diff = y - x\n",
    "'''"
   ]
  },
  {
   "cell_type": "code",
   "execution_count": 25,
   "metadata": {},
   "outputs": [],
   "source": [
    "def difference(x, y):\n",
    "    diff = y - x\n",
    "    return diff"
   ]
  },
  {
   "cell_type": "code",
   "execution_count": 28,
   "metadata": {},
   "outputs": [
    {
     "name": "stdout",
     "output_type": "stream",
     "text": [
      "-6\n"
     ]
    }
   ],
   "source": [
    "if __name__ == \"__main__\":\n",
    "    print(difference(11,5))"
   ]
  },
  {
   "cell_type": "markdown",
   "metadata": {},
   "source": [
    "--------"
   ]
  },
  {
   "cell_type": "code",
   "execution_count": 29,
   "metadata": {},
   "outputs": [],
   "source": [
    "def addition(x, y):\n",
    "    return x+y\n",
    "\n",
    "def additionLoop(x, y):\n",
    "    i = 0\n",
    "    while i < y:\n",
    "        x+=1\n",
    "        i+=1\n",
    "    return x"
   ]
  },
  {
   "cell_type": "code",
   "execution_count": 31,
   "metadata": {},
   "outputs": [
    {
     "name": "stdout",
     "output_type": "stream",
     "text": [
      "Addition:\n",
      "\n"
     ]
    },
    {
     "name": "stdin",
     "output_type": "stream",
     "text": [
      "Input a number (1-100): 52\n",
      "Input the other number (1-100): 45.2\n"
     ]
    },
    {
     "name": "stdout",
     "output_type": "stream",
     "text": [
      "Add 52.0 to 45.2 equals 97.2\n",
      "False\n"
     ]
    }
   ],
   "source": [
    "if __name__ == \"__main__\":\n",
    "    print(\"Addition:\")\n",
    "    print()\n",
    "    \n",
    "    x = float(input(\"Input a number (1-100):\"))\n",
    "    y = float(input(\"Input the other number (1-100):\"))\n",
    "    \n",
    "    sum1 = addition(x, y)\n",
    "    sum2 = additionLoop(x, y)\n",
    "    \n",
    "    print(\"Add\", x, \"to\", y, \"equals\", sum1)\n",
    "    print(sum1 == sum2)"
   ]
  },
  {
   "cell_type": "code",
   "execution_count": 33,
   "metadata": {},
   "outputs": [],
   "source": [
    "def subtraction(x, y):\n",
    "    return x - y\n",
    "\n",
    "def subtractionLoop(x, y):\n",
    "    i = 0\n",
    "    while i < y:\n",
    "        x-=1\n",
    "        i+=1\n",
    "    return x"
   ]
  },
  {
   "cell_type": "code",
   "execution_count": 37,
   "metadata": {},
   "outputs": [
    {
     "name": "stdout",
     "output_type": "stream",
     "text": [
      "Subtraction:\n",
      "\n"
     ]
    },
    {
     "name": "stdin",
     "output_type": "stream",
     "text": [
      "Input a number (1-100): 12\n",
      "Input the other number (1-100): 8\n"
     ]
    },
    {
     "name": "stdout",
     "output_type": "stream",
     "text": [
      "Subtracting 8.0 from 12.0 equals 4.0\n",
      "True\n"
     ]
    }
   ],
   "source": [
    "if __name__ == \"__main__\":\n",
    "    print(\"Subtraction:\")\n",
    "    print()\n",
    "    \n",
    "    x = float(input(\"Input a number (1-100):\"))\n",
    "    y = float(input(\"Input the other number (1-100):\"))\n",
    "    \n",
    "    diff1 = subtraction(x, y)\n",
    "    diff2 = subtractionLoop(x, y)\n",
    "    \n",
    "    print(\"Subtracting\", y, \"from\", x, \"equals\", diff1)\n",
    "    print(diff1 == diff2)"
   ]
  },
  {
   "cell_type": "code",
   "execution_count": 69,
   "metadata": {},
   "outputs": [],
   "source": [
    "def Multiplication(x, y):\n",
    "    return x * y\n",
    "\n",
    "def MultiplicationLoop(x, y):\n",
    "    i = 0\n",
    "    prod = 0\n",
    "    while i < y:\n",
    "        prod += x\n",
    "        i+=1\n",
    "    return prod"
   ]
  },
  {
   "cell_type": "code",
   "execution_count": 70,
   "metadata": {},
   "outputs": [
    {
     "name": "stdout",
     "output_type": "stream",
     "text": [
      "Multiplication:\n",
      "\n"
     ]
    },
    {
     "name": "stdin",
     "output_type": "stream",
     "text": [
      "Input a number (1-100): 4.5e-6\n",
      "Input the other number (1-100): 3.2e-7\n"
     ]
    },
    {
     "name": "stdout",
     "output_type": "stream",
     "text": [
      "Multiplying 4.5e-06 to 3.2e-07 equals 1.4400000000000001e-12\n",
      "False\n"
     ]
    }
   ],
   "source": [
    "if __name__ == \"__main__\":\n",
    "    print(\"Multiplication:\")\n",
    "    print()\n",
    "    \n",
    "    x = float(input(\"Input a number (1-100):\"))\n",
    "    y = float(input(\"Input the other number (1-100):\"))\n",
    "    \n",
    "    prod1 = Multiplication(x, y)\n",
    "    prod2 = MultiplicationLoop(x, y)\n",
    "    \n",
    "    print(\"Multiplying\", x, \"to\", y, \"equals\", prod1)\n",
    "    print(prod1 == prod2)"
   ]
  },
  {
   "cell_type": "markdown",
   "metadata": {},
   "source": [
    "# Madlibs Project"
   ]
  },
  {
   "cell_type": "code",
   "execution_count": 71,
   "metadata": {},
   "outputs": [],
   "source": [
    "# ___ likes to ____ ______ in the ______\n",
    "\n",
    "def mad_lib():\n",
    "    noun1 = input('Enter a noun:')    \n",
    "    verb1 = input('Enter a verb:')    \n",
    "    noun2 = input('Enter a noun:')    \n",
    "    noun3 = input('Enter a noun:')\n",
    "    \n",
    "    print(noun1, \"likes to\", verb1, noun2, \"in the\", noun3)"
   ]
  },
  {
   "cell_type": "code",
   "execution_count": 72,
   "metadata": {},
   "outputs": [
    {
     "name": "stdin",
     "output_type": "stream",
     "text": [
      "Enter a noun: snake\n",
      "Enter a verb: dance\n",
      "Enter a noun: slow\n",
      "Enter a noun: rain\n"
     ]
    },
    {
     "name": "stdout",
     "output_type": "stream",
     "text": [
      "snake likes to dance slow in the rain\n"
     ]
    }
   ],
   "source": [
    "if __name__ == \"__main__\":\n",
    "    mad_lib()"
   ]
  },
  {
   "cell_type": "code",
   "execution_count": null,
   "metadata": {},
   "outputs": [],
   "source": []
  }
 ],
 "metadata": {
  "kernelspec": {
   "display_name": "Python 3",
   "language": "python",
   "name": "python3"
  },
  "language_info": {
   "codemirror_mode": {
    "name": "ipython",
    "version": 3
   },
   "file_extension": ".py",
   "mimetype": "text/x-python",
   "name": "python",
   "nbconvert_exporter": "python",
   "pygments_lexer": "ipython3",
   "version": "3.7.3"
  }
 },
 "nbformat": 4,
 "nbformat_minor": 2
}
